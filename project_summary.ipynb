{
 "cells": [
  {
   "cell_type": "markdown",
   "metadata": {},
   "source": [
    "# Project Summary"
   ]
  },
  {
   "cell_type": "code",
   "execution_count": 47,
   "metadata": {},
   "outputs": [],
   "source": [
    "from game import Game, Player\n",
    "from investigate_game import InvestigateGame\n",
    "from random_player import RandomPlayer\n",
    "from min_max import MinMaxPlayer, AlphaBetaMinMaxPlayer\n",
    "from q_learning import QLearningRLPlayer\n",
    "from monte_carlo_rl import MonteCarloRLPlayer\n",
    "import matplotlib.pyplot as plt\n",
    "import numpy as np\n",
    "from tqdm import tqdm, trange"
   ]
  },
  {
   "cell_type": "code",
   "execution_count": null,
   "metadata": {},
   "outputs": [],
   "source": [
    "def plot_training_stats(rewards: list, step_size: int, switch_ratio: int | None = None) -> None:\n",
    "    \"\"\"\n",
    "    Given a training list of rewards, this function plots the averages of the rewards\n",
    "    using a given step size.\n",
    "\n",
    "    Args:\n",
    "        rewards: the rewards achieved during training time;\n",
    "        step: the step size to be used to plot an average value;\n",
    "        switch_ratio: define the moment in which minmax started playing-\n",
    "\n",
    "    Returns:\n",
    "        None.\n",
    "    \"\"\"\n",
    "\n",
    "    # https://stackoverflow.com/questions/15956309/averaging-over-every-n-elements-of-a-numpy-array\n",
    "    # compute the averages\n",
    "    averages = np.mean(np.array(rewards).reshape(-1, step_size), axis=1)\n",
    "\n",
    "    # define the width and height of the figure in inches\n",
    "    plt.figure(figsize=(10, 5))\n",
    "    # plot the averages\n",
    "    plt.plot(averages, color='red', marker='o', linestyle='dashed', label='Training')\n",
    "    # if minmax played\n",
    "    if switch_ratio is not None:\n",
    "        # compute the exact moment\n",
    "        switch_moment = int(len(rewards) / step_size * switch_ratio)\n",
    "        # print a vertical line at the moment minmax started playing\n",
    "        plt.axvline(x=switch_moment, color='green', label='MinMax Starts Playing')\n",
    "    # specify the title\n",
    "    plt.title('Training Summary')\n",
    "    # specify the x-axis label\n",
    "    plt.xlabel('# of the step')\n",
    "    # specify the y-axis label\n",
    "    plt.ylabel('Mean rewards value')\n",
    "    # show the legend\n",
    "    plt.legend()\n",
    "    # show the plot\n",
    "    plt.show()"
   ]
  },
  {
   "cell_type": "markdown",
   "metadata": {},
   "source": [
    "## Train a Q-learning player"
   ]
  },
  {
   "cell_type": "code",
   "execution_count": null,
   "metadata": {},
   "outputs": [],
   "source": [
    "# create the Q-learning player\n",
    "q_learning_rl_agent = QLearningRLPlayer(minmax=True)\n",
    "# train the Q-learning player\n",
    "q_learning_rl_agent.train(max_steps_draw=10)\n",
    "# print the number of explored states\n",
    "print(f'Number of explored states: {len(q_learning_rl_agent._q_table.keys())}')\n",
    "# serialize the Q-learning player\n",
    "q_learning_rl_agent.save('agents/q_learning_agent_1.pkl')"
   ]
  },
  {
   "cell_type": "code",
   "execution_count": null,
   "metadata": {},
   "outputs": [],
   "source": [
    "# get the rewards\n",
    "rewards = q_learning_rl_agent.rewards\n",
    "# plot the averages of the training rewards\n",
    "plot_training_stats(rewards, step_size=5, switch_ratio=0.8)"
   ]
  },
  {
   "cell_type": "markdown",
   "metadata": {},
   "source": [
    "## Train a Monte Carlo learning player"
   ]
  },
  {
   "cell_type": "code",
   "execution_count": null,
   "metadata": {},
   "outputs": [],
   "source": [
    "monte_carlo_rl_agent = MonteCarloRLPlayer()\n",
    "monte_carlo_rl_agent.train(max_steps_draw=10)\n",
    "monte_carlo_rl_agent.save('agents/monte_carlo_rl_no_sim.pkl')"
   ]
  },
  {
   "cell_type": "code",
   "execution_count": null,
   "metadata": {},
   "outputs": [],
   "source": [
    "# serialize the Q-learning player\n",
    "monte_carlo_rl_agent.save('agents/monte_carlo_rl_agent_3.pkl')"
   ]
  },
  {
   "cell_type": "code",
   "execution_count": null,
   "metadata": {},
   "outputs": [],
   "source": [
    "# create the Q-learning player\n",
    "monte_carlo_rl_agent = MonteCarloRLPlayer(minmax=True)\n",
    "# train the Q-learning player\n",
    "monte_carlo_rl_agent.train(max_steps_draw=10)\n",
    "# print the number of explored states\n",
    "print(f'Number of explored states: {(len(monte_carlo_rl_agent._q_table.keys())):,}')\n",
    "# serialize the Q-learning player\n",
    "monte_carlo_rl_agent.save('agents/monte_carlo_rl_agent_1.pkl')"
   ]
  },
  {
   "cell_type": "code",
   "execution_count": null,
   "metadata": {},
   "outputs": [],
   "source": [
    "# load trained Montecalrlo agent\n",
    "# monte_carlo_rl_agent = MonteCarloRLPlayer()\n",
    "# monte_carlo_rl_agent.load('agents/monte_carlo_rl_no_sim.pkl')\n",
    "# get the rewards\n",
    "\n",
    "rewards = monte_carlo_rl_agent.rewards\n",
    "\n",
    "# plot the averages of the training rewards\n",
    "\n",
    "plot_training_stats(rewards, step_size=200)"
   ]
  },
  {
   "cell_type": "markdown",
   "metadata": {},
   "source": [
    "#### Continuing the training of Montecarlo RL Player"
   ]
  },
  {
   "cell_type": "code",
   "execution_count": null,
   "metadata": {},
   "outputs": [],
   "source": [
    "# load trained Montecalrlo agent\n",
    "monte_carlo_rl_agent = MonteCarloRLPlayer()\n",
    "monte_carlo_rl_agent.load('agents/monte_carlo_rl_agent_1.pkl')\n",
    "# resume training of Montecarlo player\n",
    "monte_carlo_rl_agent.train(max_steps_draw=10)\n",
    "# print the number of explored states\n",
    "print(f'Number of explored states: {(len(monte_carlo_rl_agent._q_table.keys())):,}')\n",
    "# serialize the Q-learning player\n",
    "monte_carlo_rl_agent.save('agents/monte_carlo_rl_agent_1.pkl')"
   ]
  },
  {
   "cell_type": "code",
   "execution_count": null,
   "metadata": {},
   "outputs": [],
   "source": [
    "# load trained Montecalrlo agent\n",
    "monte_carlo_rl_agent = MonteCarloRLPlayer()\n",
    "monte_carlo_rl_agent.load('agents/monte_carlo_rl_agent_1.pkl')\n",
    "monte_carlo_rl_agent._exploration_decay_rate = 2e-5\n",
    "# resume training of Montecarlo player\n",
    "monte_carlo_rl_agent.train(max_steps_draw=10)\n",
    "# print the number of explored states\n",
    "print(f'Number of explored states: {(len(monte_carlo_rl_agent._q_table.keys())):,}')\n",
    "# serialize the Q-learning player\n",
    "monte_carlo_rl_agent.save('agents/monte_carlo_rl_agent_1.pkl')"
   ]
  },
  {
   "cell_type": "code",
   "execution_count": null,
   "metadata": {},
   "outputs": [],
   "source": [
    "# get the rewards\n",
    "rewards = monte_carlo_rl_agent.rewards\n",
    "# plot the averages of the training rewards\n",
    "plot_training_stats(rewards, step_size=2000)"
   ]
  },
  {
   "cell_type": "markdown",
   "metadata": {},
   "source": [
    "## Train MinMax"
   ]
  },
  {
   "cell_type": "code",
   "execution_count": null,
   "metadata": {},
   "outputs": [],
   "source": [
    "minmax_player_0 = MinMaxPlayer(0, depth=3, symmetries=True)\n",
    "rand_player = RandomPlayer()\n",
    "pbar = tqdm(range(10))\n",
    "for i in pbar:\n",
    "    g = Game()\n",
    "    _ = g.play(minmax_player_0, rand_player)\n",
    "    pbar.set_description(\n",
    "        f'Hash tables entries: {(len(minmax_player_0._visited_max_states) + len(minmax_player_0._visited_min_states)):,}'\n",
    "    )\n",
    "print(\n",
    "    f'Entry in the Hash tables minmax_player_0: {(len(minmax_player_0._visited_max_states) + len(minmax_player_0._visited_min_states)):,}'\n",
    ")\n",
    "minmax_player_0.save('agents/minmax_player0_depth3_agent1')"
   ]
  },
  {
   "cell_type": "code",
   "execution_count": null,
   "metadata": {},
   "outputs": [],
   "source": [
    "minmax_player_1 = MinMaxPlayer(1, depth=3, symmetries=True)\n",
    "rand_player = RandomPlayer()\n",
    "pbar = tqdm(range(10))\n",
    "for i in pbar:\n",
    "    g = Game()\n",
    "    _ = g.play(rand_player, minmax_player_1)\n",
    "    pbar.set_description(\n",
    "        f'Hash tables entries: {(len(minmax_player_1._visited_max_states) + len(minmax_player_1._visited_min_states)):,}'\n",
    "    )\n",
    "print(\n",
    "    f'Entry in the Hash tables minmax_player_1: {(len(minmax_player_1._visited_max_states) + len(minmax_player_1._visited_min_states)):,}'\n",
    ")\n",
    "minmax_player_1.save('agents/minmax_player1_depth3_agent1')"
   ]
  },
  {
   "cell_type": "markdown",
   "metadata": {},
   "source": [
    "## Train AlphaBetaMinMax"
   ]
  },
  {
   "cell_type": "code",
   "execution_count": null,
   "metadata": {},
   "outputs": [],
   "source": [
    "alphabeta_player_0 = MinMaxPlayer(0, depth=3, symmetries=True)\n",
    "rand_player = RandomPlayer()\n",
    "pbar = tqdm(range(10))\n",
    "for i in pbar:\n",
    "    g = Game()\n",
    "    _ = g.play(alphabeta_player_0, rand_player)\n",
    "    pbar.set_description(\n",
    "        f'Hash tables entries: {(len(alphabeta_player_0._visited_max_states) + len(alphabeta_player_0._visited_min_states)):,}'\n",
    "    )\n",
    "print(\n",
    "    f'Entry in the Hash tables alphabeta_player_0: {(len(alphabeta_player_0._visited_max_states) + len(alphabeta_player_0._visited_min_states)):,}'\n",
    ")\n",
    "alphabeta_player_0.save('agents/alphabeta_player0_depth3_agent1')"
   ]
  },
  {
   "cell_type": "code",
   "execution_count": null,
   "metadata": {},
   "outputs": [],
   "source": [
    "alphabeta_player_1 = MinMaxPlayer(1, depth=3, symmetries=True)\n",
    "rand_player = RandomPlayer()\n",
    "pbar = tqdm(range(10))\n",
    "for i in pbar:\n",
    "    g = Game()\n",
    "    _ = g.play(rand_player, alphabeta_player_1)\n",
    "    pbar.set_description(\n",
    "        f'Hash tables entries: {(len(alphabeta_player_1._visited_max_states) + len(alphabeta_player_1._visited_min_states)):,}'\n",
    "    )\n",
    "print(\n",
    "    f'Entry in the Hash tables alphabeta_player_1: {(len(alphabeta_player_1._visited_max_states) + len(alphabeta_player_1._visited_min_states)):,}'\n",
    ")\n",
    "alphabeta_player_1.save('agents/alphabeta_player1_depth3_agent1')"
   ]
  },
  {
   "cell_type": "markdown",
   "metadata": {},
   "source": [
    "## Play Games"
   ]
  },
  {
   "cell_type": "code",
   "execution_count": null,
   "metadata": {},
   "outputs": [],
   "source": [
    "monte_carlo_rl_agent = MonteCarloRLPlayer()\n",
    "monte_carlo_rl_agent.load('agents/monte_carlo_rl_agent_1.pkl')\n",
    "minmax_player_1 = MinMaxPlayer(1)\n",
    "minmax_player_1.load('agents/minmax_player1_agent1')"
   ]
  },
  {
   "cell_type": "code",
   "execution_count": null,
   "metadata": {},
   "outputs": [],
   "source": [
    "# create the first player\n",
    "player1 = monte_carlo_rl_agent\n",
    "# create the second player\n",
    "player2 = RandomPlayer()\n",
    "# create a new game\n",
    "game = InvestigateGame(Game())\n",
    "# LET'S BATTLE\n",
    "winner = game.play(player1, player2, max_steps_draw=10)"
   ]
  },
  {
   "cell_type": "markdown",
   "metadata": {},
   "source": [
    "## Testing Players performance"
   ]
  },
  {
   "cell_type": "code",
   "execution_count": 163,
   "metadata": {},
   "outputs": [],
   "source": [
    "def show_game_statistics(player1: Player, player2: Player, n_games: int) -> None:\n",
    "    \"\"\"\n",
    "    Play a few games between two players and plot the calculated winning percentages.\n",
    "\n",
    "    Args:\n",
    "        players1: the first player;\n",
    "        players2: the second player;\n",
    "        n_games: how many games to play.\n",
    "\n",
    "    Returns:\n",
    "        None.\n",
    "    \"\"\"\n",
    "\n",
    "    # define the width and height of the figure in inches\n",
    "    plt.figure(figsize=(8, 5))\n",
    "\n",
    "    # let the players play both first and second\n",
    "    for plot, (player1, player2) in enumerate([(player1, player2), (player2, player1)]):\n",
    "        # count how many wins for the first player\n",
    "        player1_wins = 0\n",
    "\n",
    "        # for each game\n",
    "        for _ in range(n_games):\n",
    "            # create the game\n",
    "            game = Game()\n",
    "            # play the game\n",
    "            winner = game.play(player1, player2)\n",
    "            # if the first player wins\n",
    "            if winner == 0:\n",
    "                # increment the counter\n",
    "                player1_wins += 1\n",
    "\n",
    "        # create a subplot\n",
    "        plt.subplot(1, 2, plot + 1)\n",
    "        # plot the first player wins\n",
    "        bars = plt.bar([0, 0.6], [player1_wins, n_games - player1_wins], color=['royalblue', 'lightcoral'], width=0.4)\n",
    "        # for each bar\n",
    "        for bar in bars:\n",
    "            # get the winning percentage\n",
    "            percentage = bar.get_height() / n_games\n",
    "            # write the percentage on top of the bar\n",
    "            plt.text(\n",
    "                bar.get_x() + bar.get_width() / 2,\n",
    "                bar.get_height(),\n",
    "                f'{percentage:.2%}',\n",
    "                ha='center',\n",
    "                va='bottom',\n",
    "                fontsize='medium',\n",
    "            )\n",
    "        # plot the players' names\n",
    "        plt.xticks([0, 0.6], [player1.__class__.__name__, player2.__class__.__name__])\n",
    "        # delete y-axis ticks and labels\n",
    "        plt.tick_params(left=False, labelleft=False)\n",
    "        # specify the y-axis label\n",
    "        plt.ylabel('Wins')\n",
    "        # specify the title shared between the subplots\n",
    "        plt.title(f'{player1.__class__.__name__} VS {player2.__class__.__name__}')\n",
    "\n",
    "    # specify the title shared between the subplots\n",
    "    plt.suptitle(f'Summary of {n_games} games')"
   ]
  },
  {
   "cell_type": "code",
   "execution_count": 164,
   "metadata": {},
   "outputs": [
    {
     "data": {
      "image/png": "[encoded data removed]",
      "text/plain": [
       "<Figure size 800x500 with 2 Axes>"
      ]
     },
     "metadata": {},
     "output_type": "display_data"
    }
   ],
   "source": [
    "show_game_statistics(MinMaxPlayer(depth=1), RandomPlayer(), 3)"
   ]
  },
  {
   "cell_type": "markdown",
   "metadata": {},
   "source": [
    "### Vs Random Player"
   ]
  },
  {
   "cell_type": "code",
   "execution_count": null,
   "metadata": {},
   "outputs": [],
   "source": [
    "random_player = RandomPlayer()\n",
    "# load trained Montecalrlo agent\n",
    "''' \n",
    "print(f'Minmax as first')\n",
    "test(minmax_player_0,random_player,100)\n",
    "print(f'Minmax as second')\n",
    "test(random_player,minmax_player_1,100)\n",
    "print(f'Alphabeta as first')\n",
    "test(alphabeta_player_0,random_player,100)\n",
    "print(f'Alphabeta as second')\n",
    "test(random_player,alphabeta_player_1,100)\n",
    "'''\n",
    "\n",
    "print(f'Montecarlo as first')\n",
    "test(monte_carlo_rl_agent, random_player, 1_000, 0)\n",
    "print(f'Montecarlo as second')\n",
    "test(random_player, monte_carlo_rl_agent, 1_000, 1)"
   ]
  },
  {
   "cell_type": "code",
   "execution_count": null,
   "metadata": {},
   "outputs": [],
   "source": [
    "print(f'MinMax as first')\n",
    "test(MinMaxPlayer(0, depth=3), RandomPlayer(), 1_00, 0)\n",
    "print(f'MinMax as second')\n",
    "test(RandomPlayer(), MinMaxPlayer(1, depth=3), 1_00, 1)"
   ]
  },
  {
   "cell_type": "code",
   "execution_count": null,
   "metadata": {},
   "outputs": [],
   "source": [
    "print(f'MinMax as first with symmetries')\n",
    "test(MinMaxPlayer(0, depth=3, symmetries=True), RandomPlayer(), 1_00, 0)\n",
    "print(f'MinMax as second with symmetries')\n",
    "test(RandomPlayer(), MinMaxPlayer(1, depth=3, symmetries=True), 1_00, 1)"
   ]
  },
  {
   "cell_type": "code",
   "execution_count": null,
   "metadata": {},
   "outputs": [],
   "source": [
    "print(f'AlphaBetaMinMax as first')\n",
    "test(AlphaBetaMinMaxPlayer(0, depth=3), RandomPlayer(), 1_00, 0)\n",
    "print(f'AlphaBetaMinMax as second')\n",
    "test(RandomPlayer(), AlphaBetaMinMaxPlayer(1, depth=3), 1_00, 1)"
   ]
  },
  {
   "cell_type": "code",
   "execution_count": null,
   "metadata": {},
   "outputs": [],
   "source": [
    "print(f'Montecarlo as first')\n",
    "test(AlphaBetaMinMaxPlayer(0, depth=3, symmetries=True), RandomPlayer(), 1_00, 0)\n",
    "print(f'Montecarlo as second')\n",
    "test(RandomPlayer(), AlphaBetaMinMaxPlayer(1, depth=3, symmetries=True), 1_00, 1)"
   ]
  },
  {
   "cell_type": "markdown",
   "metadata": {},
   "source": [
    "### Minmax vs Montecarlo"
   ]
  },
  {
   "cell_type": "code",
   "execution_count": null,
   "metadata": {},
   "outputs": [],
   "source": [
    "print(f'Montecarlo as first')\n",
    "test(monte_carlo_rl_agent, MinMaxPlayer(1, depth=2), 50, 0)"
   ]
  }
 ],
 "metadata": {
  "kernelspec": {
   "display_name": "ci",
   "language": "python",
   "name": "python3"
  },
  "language_info": {
   "codemirror_mode": {
    "name": "ipython",
    "version": 3
   },
   "file_extension": ".py",
   "mimetype": "text/x-python",
   "name": "python",
   "nbconvert_exporter": "python",
   "pygments_lexer": "ipython3",
   "version": "3.12.0"
  }
 },
 "nbformat": 4,
 "nbformat_minor": 2
}
