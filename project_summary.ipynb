{
 "cells": [
  {
   "cell_type": "markdown",
   "metadata": {},
   "source": [
    "# Project Summary"
   ]
  },
  {
   "cell_type": "code",
   "execution_count": 1,
   "metadata": {},
   "outputs": [],
   "source": [
    "from game import Game\n",
    "from investigate_game import InvestigateGame\n",
    "from random_player import RandomPlayer\n",
    "from min_max import MinMaxPlayer, AlphaBetaMinMaxPlayer\n",
    "from q_learning import QLearningRLPlayer\n",
    "from monte_carlo_rl_modified import MonteCarloRLPlayer\n",
    "import matplotlib.pyplot as plt\n",
    "import numpy as np\n",
    "from tqdm import tqdm, trange"
   ]
  },
  {
   "cell_type": "code",
   "execution_count": 12,
   "metadata": {},
   "outputs": [
    {
     "data": {
      "text/plain": [
       "((1, 2), <Move.RIGHT: 3>)"
      ]
     },
     "execution_count": 12,
     "metadata": {},
     "output_type": "execute_result"
    }
   ],
   "source": [
    "from symmetry import Symmetry\n",
    "from game import Move\n",
    "\n",
    "Symmetry.get_action_from_canonical_action(((2, 3), Move.TOP), 1)"
   ]
  },
  {
   "cell_type": "code",
   "execution_count": 2,
   "metadata": {},
   "outputs": [],
   "source": [
    "def plot_training_stats(rewards: list, step_size: int, switch_ratio: int | None = None) -> None:\n",
    "    \"\"\"\n",
    "    Given a training list of rewards, this function plots the averages of the rewards\n",
    "    using a given step size.\n",
    "\n",
    "    Args:\n",
    "        rewards: the rewards achieved during training time;\n",
    "        step: the step size to be used to plot an average value;\n",
    "        switch_ratio: define the moment in which minmax started playing-\n",
    "\n",
    "    Returns:\n",
    "        None.\n",
    "    \"\"\"\n",
    "\n",
    "    # https://stackoverflow.com/questions/15956309/averaging-over-every-n-elements-of-a-numpy-array\n",
    "    # compute the averages\n",
    "    averages = np.mean(np.array(rewards).reshape(-1, step_size), axis=1)\n",
    "\n",
    "    # define the width and height of the figure in inches\n",
    "    plt.figure(figsize=(10, 5))\n",
    "    # plot the averages\n",
    "    plt.plot(averages, color='red', marker='o', linestyle='dashed', label='Training')\n",
    "    # if minmax played\n",
    "    if switch_ratio is not None:\n",
    "        # compute the exact moment\n",
    "        switch_moment = int(len(rewards) / step_size * switch_ratio)\n",
    "        # print a vertical line at the moment minmax started playing\n",
    "        plt.axvline(x=switch_moment, color='green', label='MinMax Starts Playing')\n",
    "    # specify the title\n",
    "    plt.title('Training Summary')\n",
    "    # specify the x-axis label\n",
    "    plt.xlabel('# of the step')\n",
    "    # specify the y-axis label\n",
    "    plt.ylabel('Mean rewards value')\n",
    "    # show the legend\n",
    "    plt.legend()\n",
    "    # show the plot\n",
    "    plt.show()"
   ]
  },
  {
   "cell_type": "markdown",
   "metadata": {},
   "source": [
    "## Train a Q-learning player"
   ]
  },
  {
   "cell_type": "code",
   "execution_count": null,
   "metadata": {},
   "outputs": [],
   "source": [
    "# create the Q-learning player\n",
    "q_learning_rl_agent = QLearningRLPlayer(minmax=True)\n",
    "# train the Q-learning player\n",
    "q_learning_rl_agent.train(max_steps_draw=10)\n",
    "# print the number of explored states\n",
    "print(f'Number of explored states: {len(q_learning_rl_agent._q_table.keys())}')\n",
    "# serialize the Q-learning player\n",
    "q_learning_rl_agent.save('agents/q_learning_agent_1.pkl')"
   ]
  },
  {
   "cell_type": "code",
   "execution_count": null,
   "metadata": {},
   "outputs": [],
   "source": [
    "# get the rewards\n",
    "rewards = q_learning_rl_agent.rewards\n",
    "# plot the averages of the training rewards\n",
    "plot_training_stats(rewards, step_size=5, switch_ratio=0.8)"
   ]
  },
  {
   "cell_type": "markdown",
   "metadata": {},
   "source": [
    "## Train a Monte Carlo learning player"
   ]
  },
  {
   "cell_type": "code",
   "execution_count": 3,
   "metadata": {},
   "outputs": [
    {
     "name": "stderr",
     "output_type": "stream",
     "text": [
      "# current mean rewards: -2.06 - # explored states: 117,394,823 - Current exploration rate: 0.010000: 100%|██████████| 500000/500000 [9:21:18<00:00, 14.85it/s]   \n"
     ]
    },
    {
     "name": "stdout",
     "output_type": "stream",
     "text": [
      "** Last 1_000 episodes - Mean rewards value: -0.12 **\n",
      "** Last rewards value: 10 **\n"
     ]
    }
   ],
   "source": [
    "monte_carlo_rl_agent = MonteCarloRLPlayer()\n",
    "monte_carlo_rl_agent.train(max_steps_draw=10)\n",
    "monte_carlo_rl_agent.save('agents/monte_carlo_rl_no_sim.pkl')"
   ]
  },
  {
   "cell_type": "code",
   "execution_count": 4,
   "metadata": {},
   "outputs": [],
   "source": [
    "# serialize the Q-learning player\n",
    "monte_carlo_rl_agent.save('agents/monte_carlo_rl_agent_3.pkl')"
   ]
  },
  {
   "cell_type": "code",
   "execution_count": 3,
   "metadata": {},
   "outputs": [
    {
     "name": "stderr",
     "output_type": "stream",
     "text": [
      "# explored state: 1617946 - Current exploration rate: 0.367883: 100%|██████████| 100000/100000 [2:15:57<00:00, 12.26it/s]  \n"
     ]
    },
    {
     "name": "stdout",
     "output_type": "stream",
     "text": [
      "** Last 1_000 episodes - Mean rewards value: -1.00 **\n",
      "** Last rewards value: 10 **\n",
      "Number of explored states: 1617946\n"
     ]
    }
   ],
   "source": [
    "# create the Q-learning player\n",
    "monte_carlo_rl_agent = MonteCarloRLPlayer(minmax=True)\n",
    "# train the Q-learning player\n",
    "monte_carlo_rl_agent.train(max_steps_draw=10)\n",
    "# print the number of explored states\n",
    "print(f'Number of explored states: {(len(monte_carlo_rl_agent._q_table.keys())):,}')\n",
    "# serialize the Q-learning player\n",
    "monte_carlo_rl_agent.save('agents/monte_carlo_rl_agent_1.pkl')"
   ]
  },
  {
   "cell_type": "code",
   "execution_count": 4,
   "metadata": {},
   "outputs": [
    {
     "data": {
      "image/png": "[encoded data removed]",
      "text/plain": [
       "<Figure size 1000x500 with 1 Axes>"
      ]
     },
     "metadata": {},
     "output_type": "display_data"
    }
   ],
   "source": [
    "# load trained Montecalrlo agent\n",
    "# monte_carlo_rl_agent = MonteCarloRLPlayer()\n",
    "# monte_carlo_rl_agent.load('agents/monte_carlo_rl_no_sim.pkl')\n",
    "# get the rewards\n",
    "\n",
    "rewards = monte_carlo_rl_agent.rewards\n",
    "\n",
    "# plot the averages of the training rewards\n",
    "\n",
    "plot_training_stats(rewards, step_size=200)"
   ]
  },
  {
   "cell_type": "markdown",
   "metadata": {},
   "source": [
    "#### Continuing the training of Montecarlo RL Player"
   ]
  },
  {
   "cell_type": "code",
   "execution_count": 7,
   "metadata": {},
   "outputs": [
    {
     "name": "stderr",
     "output_type": "stream",
     "text": [
      "# explored state: 3,155,516 - Current exploration rate: 0.367883: 100%|██████████| 100000/100000 [2:18:26<00:00, 12.04it/s]  \n"
     ]
    },
    {
     "name": "stdout",
     "output_type": "stream",
     "text": [
      "** Last 1_000 episodes - Mean rewards value: -5.43 **\n",
      "** Last rewards value: -10 **\n",
      "Number of explored states: 3,155,516\n"
     ]
    }
   ],
   "source": [
    "# load trained Montecalrlo agent\n",
    "monte_carlo_rl_agent = MonteCarloRLPlayer()\n",
    "monte_carlo_rl_agent.load('agents/monte_carlo_rl_agent_1.pkl')\n",
    "# resume training of Montecarlo player\n",
    "monte_carlo_rl_agent.train(max_steps_draw=10)\n",
    "# print the number of explored states\n",
    "print(f'Number of explored states: {(len(monte_carlo_rl_agent._q_table.keys())):,}')\n",
    "# serialize the Q-learning player\n",
    "monte_carlo_rl_agent.save('agents/monte_carlo_rl_agent_1.pkl')"
   ]
  },
  {
   "cell_type": "code",
   "execution_count": 3,
   "metadata": {},
   "outputs": [
    {
     "name": "stderr",
     "output_type": "stream",
     "text": [
      "# explored states: 4,592,694 - Current exploration rate: 0.135338: 100%|██████████| 100000/100000 [2:47:17<00:00,  9.96it/s]   \n"
     ]
    },
    {
     "name": "stdout",
     "output_type": "stream",
     "text": [
      "** Last 1_000 episodes - Mean rewards value: 5.38 **\n",
      "** Last rewards value: 10 **\n",
      "Number of explored states: 4,592,694\n"
     ]
    }
   ],
   "source": [
    "# load trained Montecalrlo agent\n",
    "monte_carlo_rl_agent = MonteCarloRLPlayer()\n",
    "monte_carlo_rl_agent.load('agents/monte_carlo_rl_agent_1.pkl')\n",
    "monte_carlo_rl_agent._exploration_decay_rate = 2e-5\n",
    "# resume training of Montecarlo player\n",
    "monte_carlo_rl_agent.train(max_steps_draw=10)\n",
    "# print the number of explored states\n",
    "print(f'Number of explored states: {(len(monte_carlo_rl_agent._q_table.keys())):,}')\n",
    "# serialize the Q-learning player\n",
    "monte_carlo_rl_agent.save('agents/monte_carlo_rl_agent_1.pkl')"
   ]
  },
  {
   "cell_type": "code",
   "execution_count": 6,
   "metadata": {},
   "outputs": [
    {
     "data": {
      "image/png": "[encoded data removed]",
      "text/plain": [
       "<Figure size 1000x500 with 1 Axes>"
      ]
     },
     "metadata": {},
     "output_type": "display_data"
    }
   ],
   "source": [
    "# get the rewards\n",
    "rewards = monte_carlo_rl_agent.rewards\n",
    "# plot the averages of the training rewards\n",
    "plot_training_stats(rewards, step_size=2000)"
   ]
  },
  {
   "cell_type": "markdown",
   "metadata": {},
   "source": [
    "## Train MinMax"
   ]
  },
  {
   "cell_type": "code",
   "execution_count": 4,
   "metadata": {},
   "outputs": [
    {
     "name": "stderr",
     "output_type": "stream",
     "text": [
      "Hash tables entries: 682,192: 100%|██████████| 10/10 [22:38<00:00, 135.81s/it]\n"
     ]
    },
    {
     "name": "stdout",
     "output_type": "stream",
     "text": [
      "Entry in the Hash tables minmax_player_0: 682,192\n"
     ]
    }
   ],
   "source": [
    "minmax_player_0 = MinMaxPlayer(0, depth=3, symmetries=True)\n",
    "rand_player = RandomPlayer()\n",
    "pbar = tqdm(range(10))\n",
    "for i in pbar:\n",
    "    g = Game()\n",
    "    _ = g.play(minmax_player_0, rand_player)\n",
    "    pbar.set_description(\n",
    "        f'Hash tables entries: {(len(minmax_player_0._visited_max_states) + len(minmax_player_0._visited_min_states)):,}'\n",
    "    )\n",
    "print(\n",
    "    f'Entry in the Hash tables minmax_player_0: {(len(minmax_player_0._visited_max_states) + len(minmax_player_0._visited_min_states)):,}'\n",
    ")\n",
    "minmax_player_0.save('agents/minmax_player0_depth3_agent1')"
   ]
  },
  {
   "cell_type": "code",
   "execution_count": 5,
   "metadata": {},
   "outputs": [
    {
     "name": "stderr",
     "output_type": "stream",
     "text": [
      "Hash tables entries: 1,287,275: 100%|██████████| 10/10 [34:38<00:00, 207.88s/it]\n"
     ]
    },
    {
     "name": "stdout",
     "output_type": "stream",
     "text": [
      "Entry in the Hash tables minmax_player_1: 1,287,275\n"
     ]
    }
   ],
   "source": [
    "minmax_player_1 = MinMaxPlayer(1, depth=3, symmetries=True)\n",
    "rand_player = RandomPlayer()\n",
    "pbar = tqdm(range(10))\n",
    "for i in pbar:\n",
    "    g = Game()\n",
    "    _ = g.play(rand_player, minmax_player_1)\n",
    "    pbar.set_description(\n",
    "        f'Hash tables entries: {(len(minmax_player_1._visited_max_states) + len(minmax_player_1._visited_min_states)):,}'\n",
    "    )\n",
    "print(\n",
    "    f'Entry in the Hash tables minmax_player_1: {(len(minmax_player_1._visited_max_states) + len(minmax_player_1._visited_min_states)):,}'\n",
    ")\n",
    "minmax_player_1.save('agents/minmax_player1_depth3_agent1')"
   ]
  },
  {
   "cell_type": "markdown",
   "metadata": {},
   "source": [
    "## Train AlphaBetaMinMax"
   ]
  },
  {
   "cell_type": "code",
   "execution_count": null,
   "metadata": {},
   "outputs": [],
   "source": [
    "alphabeta_player_0 = MinMaxPlayer(0, depth=3, symmetries=True)\n",
    "rand_player = RandomPlayer()\n",
    "pbar = tqdm(range(10))\n",
    "for i in pbar:\n",
    "    g = Game()\n",
    "    _ = g.play(alphabeta_player_0, rand_player)\n",
    "    pbar.set_description(\n",
    "        f'Hash tables entries: {(len(alphabeta_player_0._visited_max_states) + len(alphabeta_player_0._visited_min_states)):,}'\n",
    "    )\n",
    "print(\n",
    "    f'Entry in the Hash tables alphabeta_player_0: {(len(alphabeta_player_0._visited_max_states) + len(alphabeta_player_0._visited_min_states)):,}'\n",
    ")\n",
    "alphabeta_player_0.save('agents/alphabeta_player0_depth3_agent1')"
   ]
  },
  {
   "cell_type": "code",
   "execution_count": null,
   "metadata": {},
   "outputs": [],
   "source": [
    "alphabeta_player_1 = MinMaxPlayer(1, depth=3, symmetries=True)\n",
    "rand_player = RandomPlayer()\n",
    "pbar = tqdm(range(10))\n",
    "for i in pbar:\n",
    "    g = Game()\n",
    "    _ = g.play(rand_player, alphabeta_player_1)\n",
    "    pbar.set_description(\n",
    "        f'Hash tables entries: {(len(alphabeta_player_1._visited_max_states) + len(alphabeta_player_1._visited_min_states)):,}'\n",
    "    )\n",
    "print(\n",
    "    f'Entry in the Hash tables alphabeta_player_1: {(len(alphabeta_player_1._visited_max_states) + len(alphabeta_player_1._visited_min_states)):,}'\n",
    ")\n",
    "alphabeta_player_1.save('agents/alphabeta_player1_depth3_agent1')"
   ]
  },
  {
   "cell_type": "markdown",
   "metadata": {},
   "source": [
    "## Play Games"
   ]
  },
  {
   "cell_type": "code",
   "execution_count": 14,
   "metadata": {},
   "outputs": [],
   "source": [
    "monte_carlo_rl_agent = MonteCarloRLPlayer()\n",
    "monte_carlo_rl_agent.load('agents/monte_carlo_rl_agent_1.pkl')\n",
    "minmax_player_1 = MinMaxPlayer(1)\n",
    "minmax_player_1.load('agents/minmax_player1_agent1')"
   ]
  },
  {
   "cell_type": "code",
   "execution_count": 11,
   "metadata": {},
   "outputs": [
    {
     "name": "stdout",
     "output_type": "stream",
     "text": [
      "-- BEGINNING OF THE GAME --\n",
      "⬜️⬜️⬜️⬜️⬜️\n",
      "⬜️⬜️⬜️⬜️⬜️\n",
      "⬜️⬜️⬜️⬜️⬜️\n",
      "⬜️⬜️⬜️⬜️⬜️\n",
      "⬜️⬜️⬜️⬜️⬜️\n",
      "Player ❌ chose to move (4, 2) to the left\n",
      "⬜️⬜️⬜️⬜️⬜️\n",
      "⬜️⬜️⬜️⬜️⬜️\n",
      "❌⬜️⬜️⬜️⬜️\n",
      "⬜️⬜️⬜️⬜️⬜️\n",
      "⬜️⬜️⬜️⬜️⬜️\n",
      "Player ⭕️ chose to move (4, 1) to the bottom\n",
      "⬜️⬜️⬜️⬜️⭕️\n",
      "⬜️⬜️⬜️⬜️⬜️\n",
      "❌⬜️⬜️⬜️⬜️\n",
      "⬜️⬜️⬜️⬜️⬜️\n",
      "⬜️⬜️⬜️⬜️⬜️\n",
      "Player ❌ chose to move (0, 4) to the right\n",
      "⬜️⬜️⬜️⬜️⭕️\n",
      "⬜️⬜️⬜️⬜️⬜️\n",
      "❌⬜️⬜️⬜️⬜️\n",
      "⬜️⬜️⬜️⬜️⬜️\n",
      "⬜️⬜️⬜️⬜️❌\n",
      "Player ⭕️ chose to move (2, 4) to the left\n",
      "⬜️⬜️⬜️⬜️⭕️\n",
      "⬜️⬜️⬜️⬜️⬜️\n",
      "❌⬜️⬜️⬜️⬜️\n",
      "⬜️⬜️⬜️⬜️⬜️\n",
      "❌⬜️⬜️⭕️⬜️\n",
      "Player ❌ chose to move (0, 2) to the bottom\n",
      "⬜️⬜️⬜️⬜️⭕️\n",
      "❌⬜️⬜️⬜️⬜️\n",
      "⬜️⬜️⬜️⬜️⬜️\n",
      "❌⬜️⬜️⬜️⬜️\n",
      "⬜️⬜️⬜️⭕️⬜️\n",
      "Player ⭕️ chose to move (1, 0) to the right\n",
      "⭕️⬜️⬜️⭕️⬜️\n",
      "❌⬜️⬜️⬜️⬜️\n",
      "⬜️⬜️⬜️⬜️⬜️\n",
      "❌⬜️⬜️⬜️⬜️\n",
      "⬜️⬜️⬜️⭕️⬜️\n",
      "Player ❌ chose to move (4, 4) to the left\n",
      "⭕️⬜️⬜️⭕️⬜️\n",
      "❌⬜️⬜️⬜️⬜️\n",
      "⬜️⬜️⬜️⬜️⬜️\n",
      "❌⬜️⬜️⬜️⬜️\n",
      "❌⬜️⬜️⬜️⭕️\n",
      "Player ⭕️ chose to move (2, 4) to the top\n",
      "⭕️⬜️⭕️⭕️⬜️\n",
      "❌⬜️⬜️⬜️⬜️\n",
      "⬜️⬜️⬜️⬜️⬜️\n",
      "❌⬜️⬜️⬜️⬜️\n",
      "❌⬜️⬜️⬜️⭕️\n",
      "Player ❌ chose to move (4, 0) to the bottom\n",
      "⭕️⬜️⭕️⭕️⬜️\n",
      "❌⬜️⬜️⬜️⬜️\n",
      "⬜️⬜️⬜️⬜️⬜️\n",
      "❌⬜️⬜️⬜️⭕️\n",
      "❌⬜️⬜️⬜️❌\n",
      "Player ⭕️ chose to move (1, 4) to the left\n",
      "⭕️⬜️⭕️⭕️⬜️\n",
      "❌⬜️⬜️⬜️⬜️\n",
      "⬜️⬜️⬜️⬜️⬜️\n",
      "❌⬜️⬜️⬜️⭕️\n",
      "❌❌⭕️⬜️⬜️\n",
      "Player ❌ chose to move (1, 4) to the right\n",
      "⭕️⬜️⭕️⭕️⬜️\n",
      "❌⬜️⬜️⬜️⬜️\n",
      "⬜️⬜️⬜️⬜️⬜️\n",
      "❌⬜️⬜️⬜️⭕️\n",
      "❌⭕️⬜️⬜️❌\n",
      "Player ⭕️ chose to move (3, 0) to the bottom\n",
      "⭕️⬜️⭕️⬜️⬜️\n",
      "❌⬜️⬜️⬜️⬜️\n",
      "⬜️⬜️⬜️⬜️⬜️\n",
      "❌⬜️⬜️⬜️⭕️\n",
      "❌⭕️⬜️⭕️❌\n",
      "Player ❌ chose to move (0, 2) to the bottom\n",
      "❌⬜️⭕️⬜️⬜️\n",
      "❌⬜️⬜️⬜️⬜️\n",
      "❌⬜️⬜️⬜️⬜️\n",
      "❌⬜️⬜️⬜️⭕️\n",
      "⭕️⭕️⬜️⭕️❌\n",
      "Player ⭕️ chose to move (3, 0) to the left\n",
      "⬜️❌⬜️⭕️⭕️\n",
      "❌⬜️⬜️⬜️⬜️\n",
      "❌⬜️⬜️⬜️⬜️\n",
      "❌⬜️⬜️⬜️⭕️\n",
      "⭕️⭕️⬜️⭕️❌\n",
      "Player ❌ chose to move (1, 0) to the bottom\n",
      "⬜️⬜️⬜️⭕️⭕️\n",
      "❌⬜️⬜️⬜️⬜️\n",
      "❌⬜️⬜️⬜️⬜️\n",
      "❌⭕️⬜️⬜️⭕️\n",
      "⭕️❌⬜️⭕️❌\n",
      "Player ⭕️ chose to move (4, 0) to the left\n",
      "⭕️⬜️⬜️⬜️⭕️\n",
      "❌⬜️⬜️⬜️⬜️\n",
      "❌⬜️⬜️⬜️⬜️\n",
      "❌⭕️⬜️⬜️⭕️\n",
      "⭕️❌⬜️⭕️❌\n",
      "Player ❌ chose to move (1, 4) to the right\n",
      "⭕️⬜️⬜️⬜️⭕️\n",
      "❌⬜️⬜️⬜️⬜️\n",
      "❌⬜️⬜️⬜️⬜️\n",
      "❌⭕️⬜️⬜️⭕️\n",
      "❌⬜️⭕️❌⭕️\n",
      "Player ⭕️ chose to move (2, 4) to the top\n",
      "⭕️⬜️⭕️⬜️⭕️\n",
      "❌⬜️⬜️⬜️⬜️\n",
      "❌⬜️⬜️⬜️⬜️\n",
      "❌⭕️⬜️⬜️⭕️\n",
      "❌⬜️⬜️❌⭕️\n",
      "Player ❌ chose to move (0, 3) to the top\n",
      "❌⬜️⭕️⬜️⭕️\n",
      "⭕️⬜️⬜️⬜️⬜️\n",
      "❌⬜️⬜️⬜️⬜️\n",
      "❌⭕️⬜️⬜️⭕️\n",
      "❌⬜️⬜️❌⭕️\n",
      "Player ⭕️ chose to move (4, 1) to the top\n",
      "❌⬜️⭕️⬜️⭕️\n",
      "⭕️⬜️⬜️⬜️⭕️\n",
      "❌⬜️⬜️⬜️⭕️\n",
      "❌⭕️⬜️⬜️⬜️\n",
      "❌⬜️⬜️❌⭕️\n",
      "Player ❌ chose to move (3, 0) to the left\n",
      "⭕️❌⬜️⭕️❌\n",
      "⭕️⬜️⬜️⬜️⭕️\n",
      "❌⬜️⬜️⬜️⭕️\n",
      "❌⭕️⬜️⬜️⬜️\n",
      "❌⬜️⬜️❌⭕️\n",
      "Player ⭕️ chose to move (3, 0) to the right\n",
      "❌⬜️⭕️❌⭕️\n",
      "⭕️⬜️⬜️⬜️⭕️\n",
      "❌⬜️⬜️⬜️⭕️\n",
      "❌⭕️⬜️⬜️⬜️\n",
      "❌⬜️⬜️❌⭕️\n",
      "Player ❌ chose to move (4, 3) to the left\n",
      "❌⬜️⭕️❌⭕️\n",
      "⭕️⬜️⬜️⬜️⭕️\n",
      "❌⬜️⬜️⬜️⭕️\n",
      "❌❌⭕️⬜️⬜️\n",
      "❌⬜️⬜️❌⭕️\n",
      "Player ⭕️ chose to move (2, 0) to the right\n",
      "⬜️⭕️❌⭕️❌\n",
      "⭕️⬜️⬜️⬜️⭕️\n",
      "❌⬜️⬜️⬜️⭕️\n",
      "❌❌⭕️⬜️⬜️\n",
      "❌⬜️⬜️❌⭕️\n",
      "Player ❌ chose to move (1, 4) to the right\n",
      "⬜️⭕️❌⭕️❌\n",
      "⭕️⬜️⬜️⬜️⭕️\n",
      "❌⬜️⬜️⬜️⭕️\n",
      "❌❌⭕️⬜️⬜️\n",
      "❌⬜️❌⭕️❌\n",
      "Player ⭕️ chose to move (4, 2) to the top\n",
      "⬜️⭕️❌⭕️❌\n",
      "⭕️⬜️⬜️⬜️❌\n",
      "❌⬜️⬜️⬜️⭕️\n",
      "❌❌⭕️⬜️⭕️\n",
      "❌⬜️❌⭕️⬜️\n",
      "Player ❌ chose to move (4, 1) to the left\n",
      "⬜️⭕️❌⭕️❌\n",
      "❌⭕️⬜️⬜️⬜️\n",
      "❌⬜️⬜️⬜️⭕️\n",
      "❌❌⭕️⬜️⭕️\n",
      "❌⬜️❌⭕️⬜️\n",
      "Player ⭕️ chose to move (3, 4) to the left\n",
      "⬜️⭕️❌⭕️❌\n",
      "❌⭕️⬜️⬜️⬜️\n",
      "❌⬜️⬜️⬜️⭕️\n",
      "❌❌⭕️⬜️⭕️\n",
      "⬜️❌⬜️❌⭕️\n",
      "Player ❌ chose to move (0, 4) to the right\n",
      "⬜️⭕️❌⭕️❌\n",
      "❌⭕️⬜️⬜️⬜️\n",
      "❌⬜️⬜️⬜️⭕️\n",
      "❌❌⭕️⬜️⭕️\n",
      "❌⬜️❌⭕️❌\n",
      "Player ⭕️ chose to move (4, 3) to the bottom\n",
      "⬜️⭕️❌⭕️⬜️\n",
      "❌⭕️⬜️⬜️⭕️\n",
      "❌⬜️⬜️⬜️⭕️\n",
      "❌❌⭕️⬜️❌\n",
      "❌⬜️❌⭕️❌\n",
      "Player ❌ chose to move (4, 3) to the left\n",
      "⬜️⭕️❌⭕️⬜️\n",
      "❌⭕️⬜️⬜️⭕️\n",
      "❌⬜️⬜️⬜️⭕️\n",
      "❌❌❌⭕️⬜️\n",
      "❌⬜️❌⭕️❌\n",
      "Player ⭕️ chose to move (4, 1) to the bottom\n",
      "⬜️⭕️❌⭕️⭕️\n",
      "❌⭕️⬜️⬜️⭕️\n",
      "❌⬜️⬜️⬜️⬜️\n",
      "❌❌❌⭕️❌\n",
      "❌⬜️❌⭕️⬜️\n",
      "Player ❌ chose to move (2, 0) to the bottom\n",
      "⬜️⭕️⬜️⭕️⭕️\n",
      "❌⭕️⬜️⬜️⭕️\n",
      "❌⬜️❌⬜️⬜️\n",
      "❌❌❌⭕️❌\n",
      "❌⬜️❌⭕️⬜️\n",
      "Player ⭕️ chose to move (3, 0) to the right\n",
      "⭕️⬜️⭕️⭕️⬜️\n",
      "❌⭕️⬜️⬜️⭕️\n",
      "❌⬜️❌⬜️⬜️\n",
      "❌❌❌⭕️❌\n",
      "❌⬜️❌⭕️⬜️\n",
      "Player ❌ chose to move (4, 4) to the left\n",
      "⭕️⬜️⭕️⭕️⬜️\n",
      "❌⭕️⬜️⬜️⭕️\n",
      "❌⬜️❌⬜️⬜️\n",
      "❌❌❌⭕️❌\n",
      "❌❌⬜️❌⭕️\n",
      "Player ⭕️ chose to move (1, 0) to the right\n",
      "⭕️⭕️⭕️⬜️⭕️\n",
      "❌⭕️⬜️⬜️⭕️\n",
      "❌⬜️❌⬜️⬜️\n",
      "❌❌❌⭕️❌\n",
      "❌❌⬜️❌⭕️\n",
      "Player ❌ chose to move (3, 0) to the bottom\n",
      "⭕️⭕️⭕️⬜️⭕️\n",
      "❌⭕️⬜️⬜️⭕️\n",
      "❌⬜️❌⭕️⬜️\n",
      "❌❌❌❌❌\n",
      "❌❌⬜️❌⭕️\n",
      "Winner: Player 0\n",
      "-- END OF THE GAME --\n"
     ]
    }
   ],
   "source": [
    "# create the first player\n",
    "player1 = monte_carlo_rl_agent\n",
    "# create the second player\n",
    "player2 = RandomPlayer()\n",
    "# create a new game\n",
    "game = InvestigateGame(Game())\n",
    "# LET'S BATTLE\n",
    "winner = game.play(player1, player2, max_steps_draw=10)"
   ]
  },
  {
   "cell_type": "markdown",
   "metadata": {},
   "source": [
    "## Testing Players performance"
   ]
  },
  {
   "cell_type": "code",
   "execution_count": 7,
   "metadata": {},
   "outputs": [],
   "source": [
    "def test(player1, player2, num_games, idx):\n",
    "    wins = 0\n",
    "    pbar = trange(num_games)\n",
    "    for game in pbar:\n",
    "        g = Game()\n",
    "        w = g.play(player1, player2)\n",
    "        if w == idx:\n",
    "            wins += 1\n",
    "        pbar.set_description(f'Current percentage of wins player {idx}: {wins/(game+1):%}')\n",
    "    print(f'Percentage of wins player {idx}: {wins/num_games:%}')"
   ]
  },
  {
   "cell_type": "markdown",
   "metadata": {},
   "source": [
    "### Vs Random Player"
   ]
  },
  {
   "cell_type": "code",
   "execution_count": 6,
   "metadata": {},
   "outputs": [
    {
     "name": "stdout",
     "output_type": "stream",
     "text": [
      "Montecarlo as first\n"
     ]
    },
    {
     "name": "stderr",
     "output_type": "stream",
     "text": [
      "100%|██████████| 1000/1000 [01:39<00:00, 10.06it/s]\n"
     ]
    },
    {
     "name": "stdout",
     "output_type": "stream",
     "text": [
      "Percentage of wins player 0: 51.600000%\n",
      "Montecarlo as second\n"
     ]
    },
    {
     "name": "stderr",
     "output_type": "stream",
     "text": [
      "100%|██████████| 1000/1000 [01:20<00:00, 12.45it/s]"
     ]
    },
    {
     "name": "stdout",
     "output_type": "stream",
     "text": [
      "Percentage of wins player 1: 46.600000%\n"
     ]
    },
    {
     "name": "stderr",
     "output_type": "stream",
     "text": [
      "\n"
     ]
    },
    {
     "data": {
      "text/plain": [
       "0.466"
      ]
     },
     "execution_count": 6,
     "metadata": {},
     "output_type": "execute_result"
    }
   ],
   "source": [
    "random_player = RandomPlayer()\n",
    "# load trained Montecalrlo agent\n",
    "''' \n",
    "print(f'Minmax as first')\n",
    "test(minmax_player_0,random_player,100)\n",
    "print(f'Minmax as second')\n",
    "test(random_player,minmax_player_1,100)\n",
    "print(f'Alphabeta as first')\n",
    "test(alphabeta_player_0,random_player,100)\n",
    "print(f'Alphabeta as second')\n",
    "test(random_player,alphabeta_player_1,100)\n",
    "'''\n",
    "\n",
    "print(f'Montecarlo as first')\n",
    "test(monte_carlo_rl_agent, random_player, 1_000, 0)\n",
    "print(f'Montecarlo as second')\n",
    "test(random_player, monte_carlo_rl_agent, 1_000, 1)"
   ]
  },
  {
   "cell_type": "code",
   "execution_count": 7,
   "metadata": {},
   "outputs": [
    {
     "name": "stdout",
     "output_type": "stream",
     "text": [
      "MinMax as first\n"
     ]
    },
    {
     "name": "stderr",
     "output_type": "stream",
     "text": [
      "100%|██████████| 100/100 [02:31<00:00,  1.51s/it]\n"
     ]
    },
    {
     "name": "stdout",
     "output_type": "stream",
     "text": [
      "Percentage of wins player 0: 100.000000%\n",
      "MinMax as second\n"
     ]
    },
    {
     "name": "stderr",
     "output_type": "stream",
     "text": [
      "100%|██████████| 100/100 [02:55<00:00,  1.75s/it]"
     ]
    },
    {
     "name": "stdout",
     "output_type": "stream",
     "text": [
      "Percentage of wins player 1: 100.000000%\n"
     ]
    },
    {
     "name": "stderr",
     "output_type": "stream",
     "text": [
      "\n"
     ]
    },
    {
     "data": {
      "text/plain": [
       "1.0"
      ]
     },
     "execution_count": 7,
     "metadata": {},
     "output_type": "execute_result"
    }
   ],
   "source": [
    "print(f'MinMax as first')\n",
    "test(MinMaxPlayer(0, depth=2), RandomPlayer(), 1_00, 0)\n",
    "print(f'MinMax as second')\n",
    "test(RandomPlayer(), MinMaxPlayer(1, depth=2), 1_00, 1)"
   ]
  },
  {
   "cell_type": "code",
   "execution_count": 8,
   "metadata": {},
   "outputs": [
    {
     "name": "stdout",
     "output_type": "stream",
     "text": [
      "AlphaBetaMinMax as first\n"
     ]
    },
    {
     "name": "stderr",
     "output_type": "stream",
     "text": [
      "100%|██████████| 100/100 [00:57<00:00,  1.74it/s]\n"
     ]
    },
    {
     "name": "stdout",
     "output_type": "stream",
     "text": [
      "Percentage of wins player 0: 99.000000%\n",
      "AlphaBetaMinMax as second\n"
     ]
    },
    {
     "name": "stderr",
     "output_type": "stream",
     "text": [
      " 59%|█████▉    | 59/100 [00:36<00:25,  1.60it/s]\n"
     ]
    },
    {
     "ename": "TypeError",
     "evalue": "cannot unpack non-iterable NoneType object",
     "output_type": "error",
     "traceback": [
      "\u001b[1;31m---------------------------------------------------------------------------\u001b[0m",
      "\u001b[1;31mTypeError\u001b[0m                                 Traceback (most recent call last)",
      "Cell \u001b[1;32mIn[8], line 4\u001b[0m\n\u001b[0;32m      2\u001b[0m test(AlphaBetaMinMaxPlayer(\u001b[38;5;241m0\u001b[39m, depth\u001b[38;5;241m=\u001b[39m\u001b[38;5;241m2\u001b[39m), RandomPlayer(), \u001b[38;5;241m1_00\u001b[39m, \u001b[38;5;241m0\u001b[39m)\n\u001b[0;32m      3\u001b[0m \u001b[38;5;28mprint\u001b[39m(\u001b[38;5;124mf\u001b[39m\u001b[38;5;124m'\u001b[39m\u001b[38;5;124mAlphaBetaMinMax as second\u001b[39m\u001b[38;5;124m'\u001b[39m)\n\u001b[1;32m----> 4\u001b[0m \u001b[43mtest\u001b[49m\u001b[43m(\u001b[49m\u001b[43mRandomPlayer\u001b[49m\u001b[43m(\u001b[49m\u001b[43m)\u001b[49m\u001b[43m,\u001b[49m\u001b[43m \u001b[49m\u001b[43mAlphaBetaMinMaxPlayer\u001b[49m\u001b[43m(\u001b[49m\u001b[38;5;241;43m1\u001b[39;49m\u001b[43m,\u001b[49m\u001b[43m \u001b[49m\u001b[43mdepth\u001b[49m\u001b[38;5;241;43m=\u001b[39;49m\u001b[38;5;241;43m2\u001b[39;49m\u001b[43m)\u001b[49m\u001b[43m,\u001b[49m\u001b[43m \u001b[49m\u001b[38;5;241;43m1_00\u001b[39;49m\u001b[43m,\u001b[49m\u001b[43m \u001b[49m\u001b[38;5;241;43m1\u001b[39;49m\u001b[43m)\u001b[49m\n",
      "Cell \u001b[1;32mIn[3], line 5\u001b[0m, in \u001b[0;36mtest\u001b[1;34m(player1, player2, num_games, idx)\u001b[0m\n\u001b[0;32m      3\u001b[0m \u001b[38;5;28;01mfor\u001b[39;00m _ \u001b[38;5;129;01min\u001b[39;00m trange(num_games):\n\u001b[0;32m      4\u001b[0m     g \u001b[38;5;241m=\u001b[39m Game()\n\u001b[1;32m----> 5\u001b[0m     w \u001b[38;5;241m=\u001b[39m \u001b[43mg\u001b[49m\u001b[38;5;241;43m.\u001b[39;49m\u001b[43mplay\u001b[49m\u001b[43m(\u001b[49m\u001b[43mplayer1\u001b[49m\u001b[43m,\u001b[49m\u001b[43m \u001b[49m\u001b[43mplayer2\u001b[49m\u001b[43m)\u001b[49m\n\u001b[0;32m      6\u001b[0m     \u001b[38;5;28;01mif\u001b[39;00m w \u001b[38;5;241m==\u001b[39m idx:\n\u001b[0;32m      7\u001b[0m         wins \u001b[38;5;241m+\u001b[39m\u001b[38;5;241m=\u001b[39m \u001b[38;5;241m1\u001b[39m\n",
      "File \u001b[1;32mc:\\Users\\David\\Documents\\Polito\\Github Repo\\Computational-Intelligence-Project\\game.py:103\u001b[0m, in \u001b[0;36mGame.play\u001b[1;34m(self, player1, player2)\u001b[0m\n\u001b[0;32m    101\u001b[0m ok \u001b[38;5;241m=\u001b[39m \u001b[38;5;28;01mFalse\u001b[39;00m\n\u001b[0;32m    102\u001b[0m \u001b[38;5;28;01mwhile\u001b[39;00m \u001b[38;5;129;01mnot\u001b[39;00m ok:\n\u001b[1;32m--> 103\u001b[0m     from_pos, slide \u001b[38;5;241m=\u001b[39m players[\u001b[38;5;28mself\u001b[39m\u001b[38;5;241m.\u001b[39mcurrent_player_idx]\u001b[38;5;241m.\u001b[39mmake_move(\u001b[38;5;28mself\u001b[39m)\n\u001b[0;32m    104\u001b[0m     ok \u001b[38;5;241m=\u001b[39m \u001b[38;5;28mself\u001b[39m\u001b[38;5;241m.\u001b[39m__move(from_pos, slide, \u001b[38;5;28mself\u001b[39m\u001b[38;5;241m.\u001b[39mcurrent_player_idx)\n\u001b[0;32m    105\u001b[0m winner \u001b[38;5;241m=\u001b[39m \u001b[38;5;28mself\u001b[39m\u001b[38;5;241m.\u001b[39mcheck_winner()\n",
      "\u001b[1;31mTypeError\u001b[0m: cannot unpack non-iterable NoneType object"
     ]
    }
   ],
   "source": [
    "print(f'AlphaBetaMinMax as first')\n",
    "test(AlphaBetaMinMaxPlayer(0, depth=2), RandomPlayer(), 1_00, 0)\n",
    "print(f'AlphaBetaMinMax as second')\n",
    "test(RandomPlayer(), AlphaBetaMinMaxPlayer(1, depth=2), 1_00, 1)"
   ]
  },
  {
   "cell_type": "code",
   "execution_count": 13,
   "metadata": {},
   "outputs": [
    {
     "name": "stdout",
     "output_type": "stream",
     "text": [
      "Montecarlo as first\n"
     ]
    },
    {
     "name": "stderr",
     "output_type": "stream",
     "text": [
      "100%|██████████| 100/100 [00:57<00:00,  1.74it/s]\n"
     ]
    },
    {
     "name": "stdout",
     "output_type": "stream",
     "text": [
      "Percentage of wins player 0: 100.000000%\n",
      "Montecarlo as second\n"
     ]
    },
    {
     "name": "stderr",
     "output_type": "stream",
     "text": [
      "100%|██████████| 100/100 [00:55<00:00,  1.80it/s]"
     ]
    },
    {
     "name": "stdout",
     "output_type": "stream",
     "text": [
      "Percentage of wins player 1: 99.000000%\n"
     ]
    },
    {
     "name": "stderr",
     "output_type": "stream",
     "text": [
      "\n"
     ]
    },
    {
     "data": {
      "text/plain": [
       "0.99"
      ]
     },
     "execution_count": 13,
     "metadata": {},
     "output_type": "execute_result"
    }
   ],
   "source": [
    "print(f'Montecarlo as first')\n",
    "test(AlphaBetaMinMaxPlayer(0, depth=2), RandomPlayer(), 1_00, 0)\n",
    "print(f'Montecarlo as second')\n",
    "test(RandomPlayer(), AlphaBetaMinMaxPlayer(1, depth=2), 1_00, 1)"
   ]
  },
  {
   "cell_type": "markdown",
   "metadata": {},
   "source": [
    "### Minmax vs Montecarlo"
   ]
  },
  {
   "cell_type": "code",
   "execution_count": 18,
   "metadata": {},
   "outputs": [
    {
     "name": "stdout",
     "output_type": "stream",
     "text": [
      "Montecarlo as first\n",
      "Percentage of wins player 0: 0.000000%\n"
     ]
    },
    {
     "data": {
      "text/plain": [
       "0.0"
      ]
     },
     "execution_count": 18,
     "metadata": {},
     "output_type": "execute_result"
    }
   ],
   "source": [
    "print(f'Montecarlo as first')\n",
    "test(monte_carlo_rl_agent, MinMaxPlayer(1, depth=2), 50, 0)"
   ]
  }
 ],
 "metadata": {
  "kernelspec": {
   "display_name": "ci",
   "language": "python",
   "name": "python3"
  },
  "language_info": {
   "codemirror_mode": {
    "name": "ipython",
    "version": 3
   },
   "file_extension": ".py",
   "mimetype": "text/x-python",
   "name": "python",
   "nbconvert_exporter": "python",
   "pygments_lexer": "ipython3",
   "version": "3.11.5"
  }
 },
 "nbformat": 4,
 "nbformat_minor": 2
}
